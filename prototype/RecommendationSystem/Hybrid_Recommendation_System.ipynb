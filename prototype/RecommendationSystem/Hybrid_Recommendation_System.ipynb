{
  "cells": [
    {
      "cell_type": "markdown",
      "metadata": {
        "id": "view-in-github",
        "colab_type": "text"
      },
      "source": [
        "<a href=\"https://colab.research.google.com/github/hjy530/WOOYE/blob/main/prototype/RecommendationSystem/Hybrid_Recommendation_System.ipynb\" target=\"_parent\"><img src=\"https://colab.research.google.com/assets/colab-badge.svg\" alt=\"Open In Colab\"/></a>"
      ]
    },
    {
      "cell_type": "markdown",
      "metadata": {
        "id": "IMgW66H6rrrc"
      },
      "source": [
        "**<프로토타입용 추천 시스템>**\n",
        "\n",
        "- 하이브리드 기반 추천 시스템(Hybrid Recommender Systems)\n",
        "\n",
        "(사용한) 머신러닝을 위한 파이썬 라이브러리\n",
        "- Numpy(넘파이)\n",
        "- Pandas(판다스)\n",
        "- sklearn(사이킷런)\n",
        "- surprise(서프라이즈)"
      ]
    },
    {
      "cell_type": "markdown",
      "source": [
        "* 두 가지 필터링 방법을 결합하여 하나의 추천 시스템을 개발한다.\n",
        "  - 해당 유저와 비슷한 유저가 구매/조회한 아이템이면서, 그 아이템의 다른 추가 속성(ex. 유사한 장르/유사한 카테고리 등)에 있는 다른 아이템도 추가로 추천하는 방식"
      ],
      "metadata": {
        "id": "nTtvvkKkIdy3"
      }
    },
    {
      "cell_type": "markdown",
      "source": [
        "- [하이브리드 기반 추천 시스템]\n",
        "  - 콘텐츠 기반 필터링과 협업 기반 필터링을 합친 추천 시스템\n",
        "  - CF(Collaborative Filtiering) 점수에 콘텐츠 기반의 점수를 곱해서 정렬 후 사용\n",
        "\n",
        "  - 하이브리드 모델 방식: 콘텐츠 기반 필터링에서 시대를 이용하여 유사한 명화를 추천해주는 방식과 협업 기반 필터링에서 평점 데이터를 이용해 개인이 평점을 남긴 평점 데이터를 기반으로 새롭게 모든 명화의 평점을 예측하여 높은 예측 평점 중 개인이 평점을 부여하지 않은 명화만을 추천하는 방식을 결합하여 만든다."
      ],
      "metadata": {
        "id": "PLyGO7OHJ4_b"
      }
    },
    {
      "cell_type": "markdown",
      "source": [
        "----------"
      ],
      "metadata": {
        "id": "6MBybVeEdxD3"
      }
    },
    {
      "cell_type": "markdown",
      "source": [
        "- 필요한 라이브러리 import "
      ],
      "metadata": {
        "id": "ZxfldkqE5pU0"
      }
    },
    {
      "cell_type": "code",
      "source": [
        "!pip install surprise"
      ],
      "metadata": {
        "id": "ei7V3xEN1b_D",
        "colab": {
          "base_uri": "https://localhost:8080/"
        },
        "outputId": "22869db5-e581-43d4-f3b8-5aa6c611b1aa"
      },
      "execution_count": null,
      "outputs": [
        {
          "output_type": "stream",
          "name": "stdout",
          "text": [
            "Looking in indexes: https://pypi.org/simple, https://us-python.pkg.dev/colab-wheels/public/simple/\n",
            "Collecting surprise\n",
            "  Downloading surprise-0.1-py2.py3-none-any.whl (1.8 kB)\n",
            "Collecting scikit-surprise\n",
            "  Downloading scikit-surprise-1.1.1.tar.gz (11.8 MB)\n",
            "\u001b[K     |████████████████████████████████| 11.8 MB 5.3 MB/s \n",
            "\u001b[?25hRequirement already satisfied: joblib>=0.11 in /usr/local/lib/python3.7/dist-packages (from scikit-surprise->surprise) (1.1.0)\n",
            "Requirement already satisfied: numpy>=1.11.2 in /usr/local/lib/python3.7/dist-packages (from scikit-surprise->surprise) (1.21.6)\n",
            "Requirement already satisfied: scipy>=1.0.0 in /usr/local/lib/python3.7/dist-packages (from scikit-surprise->surprise) (1.4.1)\n",
            "Requirement already satisfied: six>=1.10.0 in /usr/local/lib/python3.7/dist-packages (from scikit-surprise->surprise) (1.15.0)\n",
            "Building wheels for collected packages: scikit-surprise\n",
            "  Building wheel for scikit-surprise (setup.py) ... \u001b[?25l\u001b[?25hdone\n",
            "  Created wheel for scikit-surprise: filename=scikit_surprise-1.1.1-cp37-cp37m-linux_x86_64.whl size=1633721 sha256=07de36dd1134d3e5d3ef5601130074036c4ad544698e8a879e37a6fefcc8c8a8\n",
            "  Stored in directory: /root/.cache/pip/wheels/76/44/74/b498c42be47b2406bd27994e16c5188e337c657025ab400c1c\n",
            "Successfully built scikit-surprise\n",
            "Installing collected packages: scikit-surprise, surprise\n",
            "Successfully installed scikit-surprise-1.1.1 surprise-0.1\n"
          ]
        }
      ]
    },
    {
      "cell_type": "code",
      "source": [
        "import pandas as pd\n",
        "import numpy as np\n",
        "import warnings; warnings.filterwarnings('ignore')"
      ],
      "metadata": {
        "id": "cCPizVCS1fw6"
      },
      "execution_count": null,
      "outputs": []
    },
    {
      "cell_type": "code",
      "source": [
        "from surprise import SVD, BaselineOnly, SVDpp, NMF, SlopeOne, CoClustering, Reader\n",
        "from surprise import Dataset\n",
        "from surprise.model_selection import cross_validate\n",
        "from surprise.prediction_algorithms import KNNBaseline, KNNBasic, KNNWithMeans, KNNWithZScore\n",
        "from surprise import accuracy\n",
        "from surprise.model_selection import train_test_split\n",
        "from surprise import dump"
      ],
      "metadata": {
        "id": "kDNH9Zlx1kXk"
      },
      "execution_count": null,
      "outputs": []
    },
    {
      "cell_type": "code",
      "source": [
        "from sklearn.feature_extraction.text import TfidfVectorizer, CountVectorizer\n",
        "from sklearn.metrics.pairwise import linear_kernel, cosine_similarity"
      ],
      "metadata": {
        "id": "hXsWbBWR1lBe"
      },
      "execution_count": null,
      "outputs": []
    },
    {
      "cell_type": "markdown",
      "source": [
        "- 데이터 준비 및 전처리\n",
        "\n"
      ],
      "metadata": {
        "id": "fDtvNvUwt2sK"
      }
    },
    {
      "cell_type": "code",
      "source": [
        "def convert_traintest_dataframe_forsurprise(training_dataframe, testing_dataframe):\n",
        "    reader = Reader(rating_scale=(0, 5))\n",
        "    trainset = Dataset.load_from_df(training_dataframe[['user_id', 'masterpiece_seq', 'grade_score']], reader)\n",
        "    testset = Dataset.load_from_df(testing_dataframe[['user_id', 'masterpiece_seq', 'grade_score']], reader)\n",
        "    trainset = trainset.construct_trainset(trainset.raw_ratings)\n",
        "    testset = testset.construct_testset(testset.raw_ratings)\n",
        "    return trainset, testset"
      ],
      "metadata": {
        "id": "lX_kc9x31n9a"
      },
      "execution_count": null,
      "outputs": []
    },
    {
      "cell_type": "code",
      "source": [
        "masterpiece = pd.read_csv('https://raw.githubusercontent.com/hjy530/WOOYE/main/prototype/csv/masterpiece.csv', encoding='utf-8')\n",
        "grade = pd.read_csv('https://raw.githubusercontent.com/hjy530/WOOYE/main/prototype/csv/grade.csv', encoding='utf-8')\n",
        "\n",
        "masterpiece_grade = pd.merge(masterpiece, grade, on=\"masterpiece_seq\")\n",
        "masterpiece_grade.drop(['masterpiece_picture', 'masterpiece_footnote'], axis=1, inplace=True)\n",
        "\n",
        "traindf = masterpiece_grade\n",
        "testdf = masterpiece_grade\n",
        "trainset, testset = convert_traintest_dataframe_forsurprise(traindf, testdf)"
      ],
      "metadata": {
        "id": "Vemb3pzu1rqO"
      },
      "execution_count": null,
      "outputs": []
    },
    {
      "cell_type": "code",
      "source": [
        "testdf.head()"
      ],
      "metadata": {
        "colab": {
          "base_uri": "https://localhost:8080/",
          "height": 270
        },
        "id": "3qhUP0qO46_w",
        "outputId": "ef895444-9fb6-4ae6-91df-a7f143ecab09"
      },
      "execution_count": null,
      "outputs": [
        {
          "output_type": "execute_result",
          "data": {
            "text/plain": [
              "   masterpiece_seq masterpiece_title masterpiece_artist masterpiece_era  \\\n",
              "0                1              모나리자         레오나르도 다 빈치            르네상스   \n",
              "1                1              모나리자         레오나르도 다 빈치            르네상스   \n",
              "2                1              모나리자         레오나르도 다 빈치            르네상스   \n",
              "3                1              모나리자         레오나르도 다 빈치            르네상스   \n",
              "4                1              모나리자         레오나르도 다 빈치            르네상스   \n",
              "\n",
              "   masterpiece_year masterpiece_technique masterpiece_material  grade_seq  \\\n",
              "0            1503.0                   인물화                   유화          2   \n",
              "1            1503.0                   인물화                   유화         44   \n",
              "2            1503.0                   인물화                   유화         92   \n",
              "3            1503.0                   인물화                   유화        135   \n",
              "4            1503.0                   인물화                   유화        209   \n",
              "\n",
              "  user_id  grade_score  \n",
              "0     이소이            8  \n",
              "1     이루다            1  \n",
              "2     지사해            8  \n",
              "3     탁재영            4  \n",
              "4     김수연            6  "
            ],
            "text/html": [
              "\n",
              "  <div id=\"df-039d4c70-3d34-451c-ae21-2485eff68378\">\n",
              "    <div class=\"colab-df-container\">\n",
              "      <div>\n",
              "<style scoped>\n",
              "    .dataframe tbody tr th:only-of-type {\n",
              "        vertical-align: middle;\n",
              "    }\n",
              "\n",
              "    .dataframe tbody tr th {\n",
              "        vertical-align: top;\n",
              "    }\n",
              "\n",
              "    .dataframe thead th {\n",
              "        text-align: right;\n",
              "    }\n",
              "</style>\n",
              "<table border=\"1\" class=\"dataframe\">\n",
              "  <thead>\n",
              "    <tr style=\"text-align: right;\">\n",
              "      <th></th>\n",
              "      <th>masterpiece_seq</th>\n",
              "      <th>masterpiece_title</th>\n",
              "      <th>masterpiece_artist</th>\n",
              "      <th>masterpiece_era</th>\n",
              "      <th>masterpiece_year</th>\n",
              "      <th>masterpiece_technique</th>\n",
              "      <th>masterpiece_material</th>\n",
              "      <th>grade_seq</th>\n",
              "      <th>user_id</th>\n",
              "      <th>grade_score</th>\n",
              "    </tr>\n",
              "  </thead>\n",
              "  <tbody>\n",
              "    <tr>\n",
              "      <th>0</th>\n",
              "      <td>1</td>\n",
              "      <td>모나리자</td>\n",
              "      <td>레오나르도 다 빈치</td>\n",
              "      <td>르네상스</td>\n",
              "      <td>1503.0</td>\n",
              "      <td>인물화</td>\n",
              "      <td>유화</td>\n",
              "      <td>2</td>\n",
              "      <td>이소이</td>\n",
              "      <td>8</td>\n",
              "    </tr>\n",
              "    <tr>\n",
              "      <th>1</th>\n",
              "      <td>1</td>\n",
              "      <td>모나리자</td>\n",
              "      <td>레오나르도 다 빈치</td>\n",
              "      <td>르네상스</td>\n",
              "      <td>1503.0</td>\n",
              "      <td>인물화</td>\n",
              "      <td>유화</td>\n",
              "      <td>44</td>\n",
              "      <td>이루다</td>\n",
              "      <td>1</td>\n",
              "    </tr>\n",
              "    <tr>\n",
              "      <th>2</th>\n",
              "      <td>1</td>\n",
              "      <td>모나리자</td>\n",
              "      <td>레오나르도 다 빈치</td>\n",
              "      <td>르네상스</td>\n",
              "      <td>1503.0</td>\n",
              "      <td>인물화</td>\n",
              "      <td>유화</td>\n",
              "      <td>92</td>\n",
              "      <td>지사해</td>\n",
              "      <td>8</td>\n",
              "    </tr>\n",
              "    <tr>\n",
              "      <th>3</th>\n",
              "      <td>1</td>\n",
              "      <td>모나리자</td>\n",
              "      <td>레오나르도 다 빈치</td>\n",
              "      <td>르네상스</td>\n",
              "      <td>1503.0</td>\n",
              "      <td>인물화</td>\n",
              "      <td>유화</td>\n",
              "      <td>135</td>\n",
              "      <td>탁재영</td>\n",
              "      <td>4</td>\n",
              "    </tr>\n",
              "    <tr>\n",
              "      <th>4</th>\n",
              "      <td>1</td>\n",
              "      <td>모나리자</td>\n",
              "      <td>레오나르도 다 빈치</td>\n",
              "      <td>르네상스</td>\n",
              "      <td>1503.0</td>\n",
              "      <td>인물화</td>\n",
              "      <td>유화</td>\n",
              "      <td>209</td>\n",
              "      <td>김수연</td>\n",
              "      <td>6</td>\n",
              "    </tr>\n",
              "  </tbody>\n",
              "</table>\n",
              "</div>\n",
              "      <button class=\"colab-df-convert\" onclick=\"convertToInteractive('df-039d4c70-3d34-451c-ae21-2485eff68378')\"\n",
              "              title=\"Convert this dataframe to an interactive table.\"\n",
              "              style=\"display:none;\">\n",
              "        \n",
              "  <svg xmlns=\"http://www.w3.org/2000/svg\" height=\"24px\"viewBox=\"0 0 24 24\"\n",
              "       width=\"24px\">\n",
              "    <path d=\"M0 0h24v24H0V0z\" fill=\"none\"/>\n",
              "    <path d=\"M18.56 5.44l.94 2.06.94-2.06 2.06-.94-2.06-.94-.94-2.06-.94 2.06-2.06.94zm-11 1L8.5 8.5l.94-2.06 2.06-.94-2.06-.94L8.5 2.5l-.94 2.06-2.06.94zm10 10l.94 2.06.94-2.06 2.06-.94-2.06-.94-.94-2.06-.94 2.06-2.06.94z\"/><path d=\"M17.41 7.96l-1.37-1.37c-.4-.4-.92-.59-1.43-.59-.52 0-1.04.2-1.43.59L10.3 9.45l-7.72 7.72c-.78.78-.78 2.05 0 2.83L4 21.41c.39.39.9.59 1.41.59.51 0 1.02-.2 1.41-.59l7.78-7.78 2.81-2.81c.8-.78.8-2.07 0-2.86zM5.41 20L4 18.59l7.72-7.72 1.47 1.35L5.41 20z\"/>\n",
              "  </svg>\n",
              "      </button>\n",
              "      \n",
              "  <style>\n",
              "    .colab-df-container {\n",
              "      display:flex;\n",
              "      flex-wrap:wrap;\n",
              "      gap: 12px;\n",
              "    }\n",
              "\n",
              "    .colab-df-convert {\n",
              "      background-color: #E8F0FE;\n",
              "      border: none;\n",
              "      border-radius: 50%;\n",
              "      cursor: pointer;\n",
              "      display: none;\n",
              "      fill: #1967D2;\n",
              "      height: 32px;\n",
              "      padding: 0 0 0 0;\n",
              "      width: 32px;\n",
              "    }\n",
              "\n",
              "    .colab-df-convert:hover {\n",
              "      background-color: #E2EBFA;\n",
              "      box-shadow: 0px 1px 2px rgba(60, 64, 67, 0.3), 0px 1px 3px 1px rgba(60, 64, 67, 0.15);\n",
              "      fill: #174EA6;\n",
              "    }\n",
              "\n",
              "    [theme=dark] .colab-df-convert {\n",
              "      background-color: #3B4455;\n",
              "      fill: #D2E3FC;\n",
              "    }\n",
              "\n",
              "    [theme=dark] .colab-df-convert:hover {\n",
              "      background-color: #434B5C;\n",
              "      box-shadow: 0px 1px 3px 1px rgba(0, 0, 0, 0.15);\n",
              "      filter: drop-shadow(0px 1px 2px rgba(0, 0, 0, 0.3));\n",
              "      fill: #FFFFFF;\n",
              "    }\n",
              "  </style>\n",
              "\n",
              "      <script>\n",
              "        const buttonEl =\n",
              "          document.querySelector('#df-039d4c70-3d34-451c-ae21-2485eff68378 button.colab-df-convert');\n",
              "        buttonEl.style.display =\n",
              "          google.colab.kernel.accessAllowed ? 'block' : 'none';\n",
              "\n",
              "        async function convertToInteractive(key) {\n",
              "          const element = document.querySelector('#df-039d4c70-3d34-451c-ae21-2485eff68378');\n",
              "          const dataTable =\n",
              "            await google.colab.kernel.invokeFunction('convertToInteractive',\n",
              "                                                     [key], {});\n",
              "          if (!dataTable) return;\n",
              "\n",
              "          const docLinkHtml = 'Like what you see? Visit the ' +\n",
              "            '<a target=\"_blank\" href=https://colab.research.google.com/notebooks/data_table.ipynb>data table notebook</a>'\n",
              "            + ' to learn more about interactive tables.';\n",
              "          element.innerHTML = '';\n",
              "          dataTable['output_type'] = 'display_data';\n",
              "          await google.colab.output.renderOutput(dataTable, element);\n",
              "          const docLink = document.createElement('div');\n",
              "          docLink.innerHTML = docLinkHtml;\n",
              "          element.appendChild(docLink);\n",
              "        }\n",
              "      </script>\n",
              "    </div>\n",
              "  </div>\n",
              "  "
            ]
          },
          "metadata": {},
          "execution_count": 7
        }
      ]
    },
    {
      "cell_type": "markdown",
      "source": [
        "- 협업 필터링(CF, Collaborative Filtering) KNN(K Nearest Neighbors) 모델\n",
        "  - K명의 최근접 이웃에 기반해서 찾는 방법\n",
        "  - 사용자가 준 평점으로 유사한 사람의 아이템을 찾거나, 유사한 아이템을 찾아 추천함\n",
        "  - 편향을 제거(전반적으로 평점을 후하게 주거나 적게 주는 경우를 방지)해주기 위해 비교군의 평점을 더해주거나 빼주어 동일하게 해준다."
      ],
      "metadata": {
        "id": "3j4tr33qEN6l"
      }
    },
    {
      "cell_type": "code",
      "source": [
        "# basic collaborative filtering algorithm taking into account a baseline rating.\n",
        "sim_options = {'name': 'cosine',\n",
        "               'user_based': False  # compute  similarities between items\n",
        "               }\n",
        "knnbaseline_algo = KNNBaseline(sim_options=sim_options)\n",
        "\n",
        "knnbaseline_algo.fit(trainset)\n",
        "knnbaseline_predictions = knnbaseline_algo.test(testset)\n",
        "\n",
        "file_name = 'KnnBaseline_model'\n",
        "dump.dump(file_name, algo=knnbaseline_predictions)\n",
        "# _, loaded_algo = dump.load(file_name)\n",
        "\n",
        "accuracy.rmse(knnbaseline_predictions)\n",
        "accuracy.mae(knnbaseline_predictions)\n",
        "print(\"Done!\")"
      ],
      "metadata": {
        "colab": {
          "base_uri": "https://localhost:8080/"
        },
        "id": "m9V1-n7kENZz",
        "outputId": "272304e9-aa2a-41cd-ea92-b0284463cc90"
      },
      "execution_count": null,
      "outputs": [
        {
          "output_type": "stream",
          "name": "stdout",
          "text": [
            "Estimating biases using als...\n",
            "Computing the cosine similarity matrix...\n",
            "Done computing similarity matrix.\n",
            "RMSE: 2.8936\n",
            "MAE:  2.4975\n",
            "Done!\n"
          ]
        }
      ]
    },
    {
      "cell_type": "markdown",
      "source": [
        "- 협업 필터링(CF, Collaborative Filtering) SVD(Singular Value Decomposition) 모델\n",
        "  - 고유값 분해의 일반화 버전\n",
        "  - 여기서 말하는 일반화란, 고유값 분해가 m×m 정사각 대칭행렬에서 성립되었다면 특이값 분해는 반드시 정사각행렬일 필요도, 대칭행렬일 필요가 없는 것. \n",
        "  - 임의의 행렬 n×p에 대해서도 성립하는 것이 특이값 분해. (즉, 제약이 없어진다는 뜻)\n",
        "  > 특이값 분해를 이용하면 어떤 종류의 행렬이라도 분해 가능\n",
        "  - 행렬을 차원축소 하기위한 도구로, 실제로는 주성분 분석(PCA, principle component analysis)과 같은 차원축소 분야에서는 특이값 분해가 흔하게 쓰임"
      ],
      "metadata": {
        "id": "Fg1I5u5burKi"
      }
    },
    {
      "cell_type": "code",
      "source": [
        "svdpp_algo = SVDpp() # SVDpp 알고리즘은 SVD의 연장\n",
        "\n",
        "svdpp_algo.fit(trainset)\n",
        "svdpp_predictions = svdpp_algo.test(testset)\n",
        "\n",
        "file_name = 'svd_model'\n",
        "dump.dump(file_name, algo=svdpp_algo)\n",
        "# _, loaded_algo = dump.load(file_name)\n",
        "\n",
        "accuracy.rmse(svdpp_predictions)\n",
        "accuracy.mae(svdpp_predictions)\n",
        "print(\"Done!\")"
      ],
      "metadata": {
        "id": "wJ6XE4F0vfre",
        "colab": {
          "base_uri": "https://localhost:8080/"
        },
        "outputId": "884e34e2-4006-4c46-abee-2e9c96077a81"
      },
      "execution_count": null,
      "outputs": [
        {
          "output_type": "stream",
          "name": "stdout",
          "text": [
            "RMSE: 2.5116\n",
            "MAE:  2.0081\n",
            "Done!\n"
          ]
        }
      ]
    },
    {
      "cell_type": "markdown",
      "source": [
        "- Masterpiece Similarity model(명화 유사도 모델)\n",
        "  - 유사도 함수는 자신과 가장 비슷한 컨텐츠를 찾아줄 때 사용\n",
        "\n",
        "- 코사인 유사도\n",
        "  - 두 벡터 간의 코사인 각도를 이용하여 구할 수 있는 두 벡터의 유사도를 의미\n",
        "  - 두 벡터의 방향이 완전히 동일한 경우에는 1의 값을 가지며, 90°의 각을 이루면 0, 180°로 반대의 방향을 가지면 -1의 값을 갖게 됨\n",
        "  - 즉, 코사인 유사도는 -1 이상 1 이하의 값을 가지며 값이 1에 가까울수록 유사도가 높다고 판단할 수 있음.\n",
        "> \"두 벡터가 가리키는 방향이 얼마나 유사한가를 의미\""
      ],
      "metadata": {
        "id": "8lyo_1Wq-QwA"
      }
    },
    {
      "cell_type": "code",
      "source": [
        "era_to_idx = {\n",
        "    '르네상스' : 1,\n",
        "    '바로크' : 2,\n",
        "    '로코코' : 3,\n",
        "    '고전주의' : 4,\n",
        "    '낭만주의' : 5,\n",
        "    '사실주의' : 6,\n",
        "    '인상주의' : 7,\n",
        "    '표현주의' : 8,\n",
        "    '초현실주의' : 9,\n",
        "    '팝아트' : 10,\n",
        "}"
      ],
      "metadata": {
        "id": "Esp4wM9fCSCP"
      },
      "execution_count": null,
      "outputs": []
    },
    {
      "cell_type": "code",
      "source": [
        "idx_to_era = {\n",
        "    1 : '르네상스',\n",
        "    2 : '바로크',\n",
        "    3 : '로코코',\n",
        "    4 : '고전주의',\n",
        "    5 : '낭만주의',\n",
        "    6 : '사실주의',\n",
        "    7 : '인상주의',\n",
        "    8 : '표현주의',\n",
        "    9 : '초현실주의',\n",
        "    10 : '팝아트',\n",
        "}"
      ],
      "metadata": {
        "id": "yv1HQ9ScCUma"
      },
      "execution_count": null,
      "outputs": []
    },
    {
      "cell_type": "code",
      "source": [
        "masterpieces = masterpiece[['masterpiece_seq', 'masterpiece_title', 'masterpiece_artist', 'masterpiece_era', 'masterpiece_year', 'masterpiece_technique', 'masterpiece_material']]\n",
        "\n",
        "# masterpieces['description_era'] = masterpieces['masterpiece_technique'] + 2*masterpieces['masterpiece_era']\n",
        "masterpieces['description_era'] = masterpieces['masterpiece_era']\n",
        "masterpieces['description_era'] = masterpieces['description_era'].fillna('')"
      ],
      "metadata": {
        "id": "t3Y-yX1tCWxd"
      },
      "execution_count": null,
      "outputs": []
    },
    {
      "cell_type": "code",
      "source": [
        "tf_new = TfidfVectorizer(analyzer='word', ngram_range=(1, 2), min_df=0)\n",
        "tfidf_matrix_new = tf_new.fit_transform(masterpieces['description_era'])"
      ],
      "metadata": {
        "id": "5Gqm9xfaNBiW"
      },
      "execution_count": null,
      "outputs": []
    },
    {
      "cell_type": "code",
      "source": [
        "cosine_sim_new = linear_kernel(tfidf_matrix_new, tfidf_matrix_new) # 코사인 유사도를 구함"
      ],
      "metadata": {
        "id": "aBGLwkXFNCxs"
      },
      "execution_count": null,
      "outputs": []
    },
    {
      "cell_type": "code",
      "source": [
        "masterpieces = masterpieces.reset_index()\n",
        "titles = masterpieces['masterpiece_title']\n",
        "indices = pd.Series(masterpieces.index, index=masterpieces['masterpiece_title'])\n",
        "indices.head(2)"
      ],
      "metadata": {
        "colab": {
          "base_uri": "https://localhost:8080/"
        },
        "id": "hQuVwPFdMcwQ",
        "outputId": "89afdd7d-5997-4384-a162-5d2b3bf3ac43"
      },
      "execution_count": null,
      "outputs": [
        {
          "output_type": "execute_result",
          "data": {
            "text/plain": [
              "masterpiece_title\n",
              "모나리자    0\n",
              "천지창조    1\n",
              "dtype: int64"
            ]
          },
          "metadata": {},
          "execution_count": 15
        }
      ]
    },
    {
      "cell_type": "code",
      "source": [
        "# get_recommendations_new 함수로 'masterpiece_title'를 보내면, 해당 명화의 유사한 시대의 'masterpiece_seq' 반환\n",
        "\n",
        "def get_recommendations_new(title):\n",
        "    idx = indices[title]\n",
        "    if type(idx) != np.int64:\n",
        "        if len(idx)>1:\n",
        "            print(\"ALERT: Multiple values\")\n",
        "            idx = idx[0]\n",
        "    sim_scores = list(enumerate(cosine_sim_new[idx]))\n",
        "    sim_scores = sorted(sim_scores, key=lambda x: x[1], reverse=True)\n",
        "    sim_scores = sim_scores[1:11]\n",
        "    # print(sim_scores)\n",
        "    masterpiece_indices = [i[0] for i in sim_scores]\n",
        "    # print(masterpiece_indices)\n",
        "    return masterpieces['masterpiece_seq'].iloc[masterpiece_indices]"
      ],
      "metadata": {
        "id": "99vcFQFfK68F"
      },
      "execution_count": null,
      "outputs": []
    },
    {
      "cell_type": "code",
      "source": [
        "get_recommendations_new('오감')"
      ],
      "metadata": {
        "colab": {
          "base_uri": "https://localhost:8080/"
        },
        "id": "1N6vfotG-OEC",
        "outputId": "c58fd636-2845-4f16-a8b6-230be4d5cf8c"
      },
      "execution_count": null,
      "outputs": [
        {
          "output_type": "execute_result",
          "data": {
            "text/plain": [
              "6      7\n",
              "7      8\n",
              "8      9\n",
              "9     10\n",
              "10    11\n",
              "11    12\n",
              "12    13\n",
              "0      1\n",
              "1      2\n",
              "2      3\n",
              "Name: masterpiece_seq, dtype: int64"
            ]
          },
          "metadata": {},
          "execution_count": 17
        }
      ]
    },
    {
      "cell_type": "markdown",
      "source": [
        "- Popularity model\n",
        "  -  era_based_popularity 함수\n",
        "  - user_top_era 함수\n",
        "\n"
      ],
      "metadata": {
        "id": "kwlaiBFmNNQC"
      }
    },
    {
      "cell_type": "code",
      "source": [
        "masterpiece_grade.head(20)"
      ],
      "metadata": {
        "id": "zFt6uWIYfHlQ"
      },
      "execution_count": null,
      "outputs": []
    },
    {
      "cell_type": "code",
      "source": [
        "# 시대를 넣으면 해당 시대의 명화에 부여된 평점들을 내림차순으로 정렬하고 이 중 상위 10개의 'masterpiece_seq' 출력\n",
        "\n",
        "def era_based_popularity(era):\n",
        "    mask = masterpiece_grade.masterpiece_era.apply(lambda x: era in x)\n",
        "    filtered_masterpiece = masterpiece_grade[mask]\n",
        "    filtered_masterpiece = filtered_masterpiece.sort_values(by='grade_score', ascending=False)\n",
        "#     filtered_masterpiece = filtered_masterpiece.sort_values(by='wr', ascending=False)\n",
        "    return filtered_masterpiece['masterpiece_seq'].head(10).values.tolist()"
      ],
      "metadata": {
        "id": "pdCY0MR7NPM_"
      },
      "execution_count": null,
      "outputs": []
    },
    {
      "cell_type": "code",
      "source": [
        "era_based_popularity('르네상스')"
      ],
      "metadata": {
        "colab": {
          "base_uri": "https://localhost:8080/"
        },
        "id": "bzk8ppQOCt3x",
        "outputId": "111dd531-3ce0-44ff-ab15-e66ecdf97645"
      },
      "execution_count": null,
      "outputs": [
        {
          "output_type": "execute_result",
          "data": {
            "text/plain": [
              "[2, 3, 5, 4, 2, 1, 3, 3, 5, 4]"
            ]
          },
          "metadata": {},
          "execution_count": 20
        }
      ]
    },
    {
      "cell_type": "code",
      "source": [
        "user = pd.read_csv('https://raw.githubusercontent.com/hjy530/WOOYE/main/prototype/csv/user.csv', encoding='utf-8')\n",
        "user_grade = pd.merge(grade, user, on=\"user_id\")\n",
        "user_grade.head(3)"
      ],
      "metadata": {
        "colab": {
          "base_uri": "https://localhost:8080/",
          "height": 143
        },
        "id": "6aurU3QMOdJG",
        "outputId": "d721ea93-43db-41a5-a5ba-a787901e0464"
      },
      "execution_count": null,
      "outputs": [
        {
          "output_type": "execute_result",
          "data": {
            "text/plain": [
              "   grade_seq user_id  masterpiece_seq  grade_score  user_gender  user_age\n",
              "0          1     이소이                2            6          0.0      17.0\n",
              "1          2     이소이                1            8          0.0      17.0\n",
              "2          3     이소이               14            2          0.0      17.0"
            ],
            "text/html": [
              "\n",
              "  <div id=\"df-9d5fc3a2-a32d-4d8e-8d68-15444d19d4e3\">\n",
              "    <div class=\"colab-df-container\">\n",
              "      <div>\n",
              "<style scoped>\n",
              "    .dataframe tbody tr th:only-of-type {\n",
              "        vertical-align: middle;\n",
              "    }\n",
              "\n",
              "    .dataframe tbody tr th {\n",
              "        vertical-align: top;\n",
              "    }\n",
              "\n",
              "    .dataframe thead th {\n",
              "        text-align: right;\n",
              "    }\n",
              "</style>\n",
              "<table border=\"1\" class=\"dataframe\">\n",
              "  <thead>\n",
              "    <tr style=\"text-align: right;\">\n",
              "      <th></th>\n",
              "      <th>grade_seq</th>\n",
              "      <th>user_id</th>\n",
              "      <th>masterpiece_seq</th>\n",
              "      <th>grade_score</th>\n",
              "      <th>user_gender</th>\n",
              "      <th>user_age</th>\n",
              "    </tr>\n",
              "  </thead>\n",
              "  <tbody>\n",
              "    <tr>\n",
              "      <th>0</th>\n",
              "      <td>1</td>\n",
              "      <td>이소이</td>\n",
              "      <td>2</td>\n",
              "      <td>6</td>\n",
              "      <td>0.0</td>\n",
              "      <td>17.0</td>\n",
              "    </tr>\n",
              "    <tr>\n",
              "      <th>1</th>\n",
              "      <td>2</td>\n",
              "      <td>이소이</td>\n",
              "      <td>1</td>\n",
              "      <td>8</td>\n",
              "      <td>0.0</td>\n",
              "      <td>17.0</td>\n",
              "    </tr>\n",
              "    <tr>\n",
              "      <th>2</th>\n",
              "      <td>3</td>\n",
              "      <td>이소이</td>\n",
              "      <td>14</td>\n",
              "      <td>2</td>\n",
              "      <td>0.0</td>\n",
              "      <td>17.0</td>\n",
              "    </tr>\n",
              "  </tbody>\n",
              "</table>\n",
              "</div>\n",
              "      <button class=\"colab-df-convert\" onclick=\"convertToInteractive('df-9d5fc3a2-a32d-4d8e-8d68-15444d19d4e3')\"\n",
              "              title=\"Convert this dataframe to an interactive table.\"\n",
              "              style=\"display:none;\">\n",
              "        \n",
              "  <svg xmlns=\"http://www.w3.org/2000/svg\" height=\"24px\"viewBox=\"0 0 24 24\"\n",
              "       width=\"24px\">\n",
              "    <path d=\"M0 0h24v24H0V0z\" fill=\"none\"/>\n",
              "    <path d=\"M18.56 5.44l.94 2.06.94-2.06 2.06-.94-2.06-.94-.94-2.06-.94 2.06-2.06.94zm-11 1L8.5 8.5l.94-2.06 2.06-.94-2.06-.94L8.5 2.5l-.94 2.06-2.06.94zm10 10l.94 2.06.94-2.06 2.06-.94-2.06-.94-.94-2.06-.94 2.06-2.06.94z\"/><path d=\"M17.41 7.96l-1.37-1.37c-.4-.4-.92-.59-1.43-.59-.52 0-1.04.2-1.43.59L10.3 9.45l-7.72 7.72c-.78.78-.78 2.05 0 2.83L4 21.41c.39.39.9.59 1.41.59.51 0 1.02-.2 1.41-.59l7.78-7.78 2.81-2.81c.8-.78.8-2.07 0-2.86zM5.41 20L4 18.59l7.72-7.72 1.47 1.35L5.41 20z\"/>\n",
              "  </svg>\n",
              "      </button>\n",
              "      \n",
              "  <style>\n",
              "    .colab-df-container {\n",
              "      display:flex;\n",
              "      flex-wrap:wrap;\n",
              "      gap: 12px;\n",
              "    }\n",
              "\n",
              "    .colab-df-convert {\n",
              "      background-color: #E8F0FE;\n",
              "      border: none;\n",
              "      border-radius: 50%;\n",
              "      cursor: pointer;\n",
              "      display: none;\n",
              "      fill: #1967D2;\n",
              "      height: 32px;\n",
              "      padding: 0 0 0 0;\n",
              "      width: 32px;\n",
              "    }\n",
              "\n",
              "    .colab-df-convert:hover {\n",
              "      background-color: #E2EBFA;\n",
              "      box-shadow: 0px 1px 2px rgba(60, 64, 67, 0.3), 0px 1px 3px 1px rgba(60, 64, 67, 0.15);\n",
              "      fill: #174EA6;\n",
              "    }\n",
              "\n",
              "    [theme=dark] .colab-df-convert {\n",
              "      background-color: #3B4455;\n",
              "      fill: #D2E3FC;\n",
              "    }\n",
              "\n",
              "    [theme=dark] .colab-df-convert:hover {\n",
              "      background-color: #434B5C;\n",
              "      box-shadow: 0px 1px 3px 1px rgba(0, 0, 0, 0.15);\n",
              "      filter: drop-shadow(0px 1px 2px rgba(0, 0, 0, 0.3));\n",
              "      fill: #FFFFFF;\n",
              "    }\n",
              "  </style>\n",
              "\n",
              "      <script>\n",
              "        const buttonEl =\n",
              "          document.querySelector('#df-9d5fc3a2-a32d-4d8e-8d68-15444d19d4e3 button.colab-df-convert');\n",
              "        buttonEl.style.display =\n",
              "          google.colab.kernel.accessAllowed ? 'block' : 'none';\n",
              "\n",
              "        async function convertToInteractive(key) {\n",
              "          const element = document.querySelector('#df-9d5fc3a2-a32d-4d8e-8d68-15444d19d4e3');\n",
              "          const dataTable =\n",
              "            await google.colab.kernel.invokeFunction('convertToInteractive',\n",
              "                                                     [key], {});\n",
              "          if (!dataTable) return;\n",
              "\n",
              "          const docLinkHtml = 'Like what you see? Visit the ' +\n",
              "            '<a target=\"_blank\" href=https://colab.research.google.com/notebooks/data_table.ipynb>data table notebook</a>'\n",
              "            + ' to learn more about interactive tables.';\n",
              "          element.innerHTML = '';\n",
              "          dataTable['output_type'] = 'display_data';\n",
              "          await google.colab.output.renderOutput(dataTable, element);\n",
              "          const docLink = document.createElement('div');\n",
              "          docLink.innerHTML = docLinkHtml;\n",
              "          element.appendChild(docLink);\n",
              "        }\n",
              "      </script>\n",
              "    </div>\n",
              "  </div>\n",
              "  "
            ]
          },
          "metadata": {},
          "execution_count": 21
        }
      ]
    },
    {
      "cell_type": "code",
      "source": [
        "# user_top_era 함수로 'user_id'를 보내면, 해당 유저가 평점을 준 명화의 시대 중 빈도가 높은 시대 세 가지 반환\n",
        "\n",
        "from numpy.ma.core import append\n",
        "import collections\n",
        "\n",
        "def user_top_era(user_id):\n",
        "    bq2 = masterpiece_grade[['user_id', 'masterpiece_seq','masterpiece_era']]\n",
        "\n",
        "    user_era = bq2['masterpiece_era'][masterpiece_grade['user_id'] == user_id]\n",
        "    # print(\"User Era: \", user_era)\n",
        "    \n",
        "    top_era_indices = np.flip(user_era)\n",
        "    counts = collections.Counter(top_era_indices)\n",
        "    counts_w = sorted(counts.items(), key= lambda item: item[1], reverse=True)\n",
        "    \n",
        "    era_dict = dict(counts_w)\n",
        "\n",
        "    era_list = list(era_dict.keys())\n",
        "\n",
        "    return era_list[:3]"
      ],
      "metadata": {
        "id": "Iu-S3JZZOhJS"
      },
      "execution_count": null,
      "outputs": []
    },
    {
      "cell_type": "code",
      "source": [
        "user_top_era('이소이')"
      ],
      "metadata": {
        "colab": {
          "base_uri": "https://localhost:8080/"
        },
        "id": "CdvMCR6JY4aO",
        "outputId": "24c6f4a0-6e22-4aa1-d164-2ceeee98c4bb"
      },
      "execution_count": null,
      "outputs": [
        {
          "output_type": "execute_result",
          "data": {
            "text/plain": [
              "['바로크', '팝아트', '르네상스']"
            ]
          },
          "metadata": {},
          "execution_count": 23
        }
      ]
    },
    {
      "cell_type": "markdown",
      "source": [
        "- Hybrid model"
      ],
      "metadata": {
        "id": "VQcrl5jJR0Mu"
      }
    },
    {
      "cell_type": "code",
      "source": [
        "knn_baseline = dump.load('KnnBaseline_model')\n",
        "svd = dump.load('svd_model') "
      ],
      "metadata": {
        "id": "dUE4SUzKR2Pq"
      },
      "execution_count": null,
      "outputs": []
    },
    {
      "cell_type": "code",
      "source": [
        "# List of users in testing data:\n",
        "user_list = testdf['user_id'].unique()"
      ],
      "metadata": {
        "id": "0EclnUqWR7Pe"
      },
      "execution_count": null,
      "outputs": []
    },
    {
      "cell_type": "code",
      "source": [
        "# type(testdf['userId'][0])\n",
        "test_masterpiece = testdf[testdf['user_id'] == '이소이']\n",
        "test_masterpiece.head()"
      ],
      "metadata": {
        "id": "LO9hXtdeR8ae"
      },
      "execution_count": null,
      "outputs": []
    },
    {
      "cell_type": "code",
      "source": [
        "# Combined model predicion on testing data, using top masterpieces to era more masterpieces based on masterpiece similarity\n",
        "# 테스트 데이터에 대한 결합 모델 예측 / 유사도를 기반으로, 동시대이며 높은 평점를 지닌 명화를 사용하여 더 많은 유사 명화를 추천\n",
        "\n",
        "def hybrid(user_id):\n",
        "    user_masterpiece = testdf[testdf['user_id'] == user_id]\n",
        "    user_masterpiece['est'] = user_masterpiece['masterpiece_seq'].apply(lambda x: 0.6*knnbaseline_algo.predict(user_id,x).est + 0.4*svdpp_algo.predict(user_id, x).est)    \n",
        "    user_masterpiece = user_masterpiece.sort_values(by ='est', ascending=False).head(4)\n",
        "    user_masterpiece['Model'] = 'SVD + CF'\n",
        "#     user_masterpiece = user_masterpiece['masterpiece_seq'].values.tolist()\n",
        "#     print(\"User liked masterpiece list: \", user_masterpiece)\n",
        "    \n",
        "    recommend_list = user_masterpiece[['masterpiece_seq', 'est', 'Model']]\n",
        "    print(recommend_list.head())\n",
        "\n",
        "#     top_masterpiece = user_masterpiece['masterpiece_seq'].iloc[0]\n",
        "#     print(\"Top masterpiece id\", top_masterpiece)\n",
        "#     top_masterpiece_title = masterpiece['masterpiece_title'][masterpiece['masterpiece_seq'] == top_masterpiece].values[0]\n",
        "#     print(\"Top masterpiece title\", top_masterpiece_title)\n",
        "\n",
        "    \n",
        "    masterpiece_list = recommend_list['masterpiece_seq'].values.tolist()\n",
        "    print(masterpiece_list)\n",
        "    \n",
        "    sim_masterpiece_list = []\n",
        "    for masterpieces_id in masterpiece_list:\n",
        "        # Call content based \n",
        "        # 콘텐츠 기반 호출\n",
        "        masterpiece_title = masterpieces['masterpiece_title'][masterpieces['masterpiece_seq'] == masterpieces_id].values[0]\n",
        "        sim_masterpiece = get_recommendations_new(masterpiece_title)\n",
        "#       print(sim_masterpiece.values.tolist())\n",
        "        sim_masterpiece_list.extend(sim_masterpiece)\n",
        "\n",
        "    for masterpieces_id in sim_masterpiece_list:\n",
        "        pred_rating = 0.6*knnbaseline_algo.predict(user_id, masterpieces_id).est + 0.4*svdpp_algo.predict(user_id, masterpieces_id).est\n",
        "        row_df = pd.DataFrame([[masterpieces_id, pred_rating, 'Movie similarity']], columns=['masterpiece_seq', 'est','Model'])\n",
        "        recommend_list = pd.concat([recommend_list, row_df], ignore_index=True)\n",
        "    \n",
        "    # Popular based masterpieces\n",
        "    # 유사도가 높은 명화\n",
        "    top_era_list = user_top_era(user_id)\n",
        "    print(\"User top era list: \", top_era_list)\n",
        "    \n",
        "    popular_masterpiece = []\n",
        "    for top_era in top_era_list:\n",
        "        popular_masterpiece.extend(era_based_popularity(top_era))\n",
        "    print(\"Final list: \", popular_masterpiece)\n",
        "    \n",
        "    # Compute ratings for the popular masterpieces\n",
        "    # 유사도가 높은 명화에 대한 평점 계산\n",
        "\n",
        "    for masterpieces_id in popular_masterpiece:\n",
        "        pred_rating = 0.6*knnbaseline_algo.predict(user_id, masterpieces_id).est + 0.4*svdpp_algo.predict(user_id, masterpieces_id).est\n",
        "        row_df = pd.DataFrame([[masterpieces_id, pred_rating, 'Popularity']], columns=['masterpiece_seq', 'est','Model'])\n",
        "        recommend_list = pd.concat([recommend_list, row_df], ignore_index=True)\n",
        "    recommend_list = recommend_list.drop_duplicates(subset=['masterpiece_seq'])\n",
        "    train_masterpieces_list = traindf[traindf['user_id']==user_id]['masterpiece_seq'].values.tolist()\n",
        "    \n",
        "    # Remove masterpieces in training for this user\n",
        "    # 해당 유저가 기존 데이터 중 평점을 부여한 적 있는 명화를 제외 \n",
        "    mask = recommend_list.masterpiece_seq.apply(lambda x: x not in train_masterpieces_list)\n",
        "    recommend_list = recommend_list[mask]\n",
        "    \n",
        "    return recommend_list"
      ],
      "metadata": {
        "id": "jdBSURPZSguJ"
      },
      "execution_count": 34,
      "outputs": []
    },
    {
      "cell_type": "code",
      "source": [
        "# traindf[traindf['user_id'] == '이소이'].sort_values(by = 'grade_score', ascending = False)\n",
        "traindf[traindf['user_id'] == '이소이'].sort_values(by = 'grade_score', ascending = False)\n",
        "# testdf[testdf['user_id'] == '이소이']"
      ],
      "metadata": {
        "id": "FVFgRR_zWiHF"
      },
      "execution_count": null,
      "outputs": []
    },
    {
      "cell_type": "code",
      "source": [
        "masterpiece_ids = hybrid('장건우')"
      ],
      "metadata": {
        "id": "ntEyIWfaYDq-",
        "colab": {
          "base_uri": "https://localhost:8080/"
        },
        "outputId": "44d7e8b6-3307-4e85-87b2-24f78369c928"
      },
      "execution_count": 79,
      "outputs": [
        {
          "output_type": "stream",
          "name": "stdout",
          "text": [
            "     masterpiece_seq       est     Model\n",
            "206               16  5.000000  SVD + CF\n",
            "493               43  5.000000  SVD + CF\n",
            "400               34  5.000000  SVD + CF\n",
            "557               49  4.990431  SVD + CF\n",
            "[16, 43, 34, 49]\n",
            "User top era list:  ['바로크', '로코코', '초현실주의']\n",
            "Final list:  [8, 6, 12, 13, 13, 10, 6, 11, 8, 9, 16, 18, 18, 17, 17, 16, 18, 18, 18, 16, 48, 47, 47, 45, 45, 44, 46, 48, 47, 47]\n"
          ]
        }
      ]
    },
    {
      "cell_type": "code",
      "source": [
        "def get_title(x):\n",
        "    mid = x['masterpiece_seq']\n",
        "    return masterpiece['masterpiece_title'][masterpiece['masterpiece_seq'] == mid].values"
      ],
      "metadata": {
        "id": "MyXixzjLXgMm"
      },
      "execution_count": 49,
      "outputs": []
    },
    {
      "cell_type": "code",
      "source": [
        "def get_era(x):\n",
        "    mid = x['masterpiece_seq']\n",
        "    return masterpiece['masterpiece_era'][masterpiece['masterpiece_seq'] == mid].values"
      ],
      "metadata": {
        "id": "hdX2i4DpXigZ"
      },
      "execution_count": 50,
      "outputs": []
    },
    {
      "cell_type": "code",
      "source": [
        "masterpiece_ids['masterpiece_title'] = masterpiece_ids.apply(get_title, axis=1)\n",
        "masterpiece_ids['masterpiece_era'] = masterpiece_ids.apply(get_era, axis=1)"
      ],
      "metadata": {
        "id": "eEwnXst1Xjg8"
      },
      "execution_count": 80,
      "outputs": []
    },
    {
      "cell_type": "code",
      "source": [
        "# 'user_id'가 아직 평점 내리지 않은 명화 중 est가 높은 순으로 추천\n",
        "masterpiece_ids.sort_values(by='est', ascending = False).head(10)"
      ],
      "metadata": {
        "colab": {
          "base_uri": "https://localhost:8080/",
          "height": 363
        },
        "id": "u5aoUc-MbhuV",
        "outputId": "4df72dd3-a37c-4614-98b5-3b9dabc3d6d3"
      },
      "execution_count": 81,
      "outputs": [
        {
          "output_type": "execute_result",
          "data": {
            "text/plain": [
              "    masterpiece_seq       est             Model  masterpiece_title  \\\n",
              "13                6  5.000000  Movie similarity  [십자가에서 내려지는 그리스도]   \n",
              "7                18  4.973468  Movie similarity     [미델하르니스의 가로수길]   \n",
              "35               51  4.947685  Movie similarity        [캠벨 수프 통조림]   \n",
              "67               45  4.911706        Popularity              [연인들]   \n",
              "26               37  4.837487  Movie similarity           [사과 바구니]   \n",
              "14               40  4.783227  Movie similarity             [더 키스]   \n",
              "12                5  4.771797  Movie similarity           [최후의 심판]   \n",
              "15               41  4.750746  Movie similarity       [꽃피는 아몬드 나무]   \n",
              "8                 1  4.750697  Movie similarity             [모나리자]   \n",
              "70               46  4.630152        Popularity           [기억의 지속]   \n",
              "\n",
              "   masterpiece_era  \n",
              "13           [바로크]  \n",
              "7            [로코코]  \n",
              "35           [팝아트]  \n",
              "67         [초현실주의]  \n",
              "26          [인상주의]  \n",
              "14          [표현주의]  \n",
              "12          [르네상스]  \n",
              "15          [표현주의]  \n",
              "8           [르네상스]  \n",
              "70         [초현실주의]  "
            ],
            "text/html": [
              "\n",
              "  <div id=\"df-9b3d8f94-f971-4d21-b96b-6ae242568571\">\n",
              "    <div class=\"colab-df-container\">\n",
              "      <div>\n",
              "<style scoped>\n",
              "    .dataframe tbody tr th:only-of-type {\n",
              "        vertical-align: middle;\n",
              "    }\n",
              "\n",
              "    .dataframe tbody tr th {\n",
              "        vertical-align: top;\n",
              "    }\n",
              "\n",
              "    .dataframe thead th {\n",
              "        text-align: right;\n",
              "    }\n",
              "</style>\n",
              "<table border=\"1\" class=\"dataframe\">\n",
              "  <thead>\n",
              "    <tr style=\"text-align: right;\">\n",
              "      <th></th>\n",
              "      <th>masterpiece_seq</th>\n",
              "      <th>est</th>\n",
              "      <th>Model</th>\n",
              "      <th>masterpiece_title</th>\n",
              "      <th>masterpiece_era</th>\n",
              "    </tr>\n",
              "  </thead>\n",
              "  <tbody>\n",
              "    <tr>\n",
              "      <th>13</th>\n",
              "      <td>6</td>\n",
              "      <td>5.000000</td>\n",
              "      <td>Movie similarity</td>\n",
              "      <td>[십자가에서 내려지는 그리스도]</td>\n",
              "      <td>[바로크]</td>\n",
              "    </tr>\n",
              "    <tr>\n",
              "      <th>7</th>\n",
              "      <td>18</td>\n",
              "      <td>4.973468</td>\n",
              "      <td>Movie similarity</td>\n",
              "      <td>[미델하르니스의 가로수길]</td>\n",
              "      <td>[로코코]</td>\n",
              "    </tr>\n",
              "    <tr>\n",
              "      <th>35</th>\n",
              "      <td>51</td>\n",
              "      <td>4.947685</td>\n",
              "      <td>Movie similarity</td>\n",
              "      <td>[캠벨 수프 통조림]</td>\n",
              "      <td>[팝아트]</td>\n",
              "    </tr>\n",
              "    <tr>\n",
              "      <th>67</th>\n",
              "      <td>45</td>\n",
              "      <td>4.911706</td>\n",
              "      <td>Popularity</td>\n",
              "      <td>[연인들]</td>\n",
              "      <td>[초현실주의]</td>\n",
              "    </tr>\n",
              "    <tr>\n",
              "      <th>26</th>\n",
              "      <td>37</td>\n",
              "      <td>4.837487</td>\n",
              "      <td>Movie similarity</td>\n",
              "      <td>[사과 바구니]</td>\n",
              "      <td>[인상주의]</td>\n",
              "    </tr>\n",
              "    <tr>\n",
              "      <th>14</th>\n",
              "      <td>40</td>\n",
              "      <td>4.783227</td>\n",
              "      <td>Movie similarity</td>\n",
              "      <td>[더 키스]</td>\n",
              "      <td>[표현주의]</td>\n",
              "    </tr>\n",
              "    <tr>\n",
              "      <th>12</th>\n",
              "      <td>5</td>\n",
              "      <td>4.771797</td>\n",
              "      <td>Movie similarity</td>\n",
              "      <td>[최후의 심판]</td>\n",
              "      <td>[르네상스]</td>\n",
              "    </tr>\n",
              "    <tr>\n",
              "      <th>15</th>\n",
              "      <td>41</td>\n",
              "      <td>4.750746</td>\n",
              "      <td>Movie similarity</td>\n",
              "      <td>[꽃피는 아몬드 나무]</td>\n",
              "      <td>[표현주의]</td>\n",
              "    </tr>\n",
              "    <tr>\n",
              "      <th>8</th>\n",
              "      <td>1</td>\n",
              "      <td>4.750697</td>\n",
              "      <td>Movie similarity</td>\n",
              "      <td>[모나리자]</td>\n",
              "      <td>[르네상스]</td>\n",
              "    </tr>\n",
              "    <tr>\n",
              "      <th>70</th>\n",
              "      <td>46</td>\n",
              "      <td>4.630152</td>\n",
              "      <td>Popularity</td>\n",
              "      <td>[기억의 지속]</td>\n",
              "      <td>[초현실주의]</td>\n",
              "    </tr>\n",
              "  </tbody>\n",
              "</table>\n",
              "</div>\n",
              "      <button class=\"colab-df-convert\" onclick=\"convertToInteractive('df-9b3d8f94-f971-4d21-b96b-6ae242568571')\"\n",
              "              title=\"Convert this dataframe to an interactive table.\"\n",
              "              style=\"display:none;\">\n",
              "        \n",
              "  <svg xmlns=\"http://www.w3.org/2000/svg\" height=\"24px\"viewBox=\"0 0 24 24\"\n",
              "       width=\"24px\">\n",
              "    <path d=\"M0 0h24v24H0V0z\" fill=\"none\"/>\n",
              "    <path d=\"M18.56 5.44l.94 2.06.94-2.06 2.06-.94-2.06-.94-.94-2.06-.94 2.06-2.06.94zm-11 1L8.5 8.5l.94-2.06 2.06-.94-2.06-.94L8.5 2.5l-.94 2.06-2.06.94zm10 10l.94 2.06.94-2.06 2.06-.94-2.06-.94-.94-2.06-.94 2.06-2.06.94z\"/><path d=\"M17.41 7.96l-1.37-1.37c-.4-.4-.92-.59-1.43-.59-.52 0-1.04.2-1.43.59L10.3 9.45l-7.72 7.72c-.78.78-.78 2.05 0 2.83L4 21.41c.39.39.9.59 1.41.59.51 0 1.02-.2 1.41-.59l7.78-7.78 2.81-2.81c.8-.78.8-2.07 0-2.86zM5.41 20L4 18.59l7.72-7.72 1.47 1.35L5.41 20z\"/>\n",
              "  </svg>\n",
              "      </button>\n",
              "      \n",
              "  <style>\n",
              "    .colab-df-container {\n",
              "      display:flex;\n",
              "      flex-wrap:wrap;\n",
              "      gap: 12px;\n",
              "    }\n",
              "\n",
              "    .colab-df-convert {\n",
              "      background-color: #E8F0FE;\n",
              "      border: none;\n",
              "      border-radius: 50%;\n",
              "      cursor: pointer;\n",
              "      display: none;\n",
              "      fill: #1967D2;\n",
              "      height: 32px;\n",
              "      padding: 0 0 0 0;\n",
              "      width: 32px;\n",
              "    }\n",
              "\n",
              "    .colab-df-convert:hover {\n",
              "      background-color: #E2EBFA;\n",
              "      box-shadow: 0px 1px 2px rgba(60, 64, 67, 0.3), 0px 1px 3px 1px rgba(60, 64, 67, 0.15);\n",
              "      fill: #174EA6;\n",
              "    }\n",
              "\n",
              "    [theme=dark] .colab-df-convert {\n",
              "      background-color: #3B4455;\n",
              "      fill: #D2E3FC;\n",
              "    }\n",
              "\n",
              "    [theme=dark] .colab-df-convert:hover {\n",
              "      background-color: #434B5C;\n",
              "      box-shadow: 0px 1px 3px 1px rgba(0, 0, 0, 0.15);\n",
              "      filter: drop-shadow(0px 1px 2px rgba(0, 0, 0, 0.3));\n",
              "      fill: #FFFFFF;\n",
              "    }\n",
              "  </style>\n",
              "\n",
              "      <script>\n",
              "        const buttonEl =\n",
              "          document.querySelector('#df-9b3d8f94-f971-4d21-b96b-6ae242568571 button.colab-df-convert');\n",
              "        buttonEl.style.display =\n",
              "          google.colab.kernel.accessAllowed ? 'block' : 'none';\n",
              "\n",
              "        async function convertToInteractive(key) {\n",
              "          const element = document.querySelector('#df-9b3d8f94-f971-4d21-b96b-6ae242568571');\n",
              "          const dataTable =\n",
              "            await google.colab.kernel.invokeFunction('convertToInteractive',\n",
              "                                                     [key], {});\n",
              "          if (!dataTable) return;\n",
              "\n",
              "          const docLinkHtml = 'Like what you see? Visit the ' +\n",
              "            '<a target=\"_blank\" href=https://colab.research.google.com/notebooks/data_table.ipynb>data table notebook</a>'\n",
              "            + ' to learn more about interactive tables.';\n",
              "          element.innerHTML = '';\n",
              "          dataTable['output_type'] = 'display_data';\n",
              "          await google.colab.output.renderOutput(dataTable, element);\n",
              "          const docLink = document.createElement('div');\n",
              "          docLink.innerHTML = docLinkHtml;\n",
              "          element.appendChild(docLink);\n",
              "        }\n",
              "      </script>\n",
              "    </div>\n",
              "  </div>\n",
              "  "
            ]
          },
          "metadata": {},
          "execution_count": 81
        }
      ]
    }
  ],
  "metadata": {
    "colab": {
      "collapsed_sections": [],
      "name": "Hybrid Recommendation System",
      "provenance": [],
      "authorship_tag": "ABX9TyNCN3dNhLf/xnAlePkSAqH6",
      "include_colab_link": true
    },
    "kernelspec": {
      "display_name": "Python 3",
      "name": "python3"
    },
    "language_info": {
      "name": "python"
    }
  },
  "nbformat": 4,
  "nbformat_minor": 0
}